{
 "cells": [
  {
   "cell_type": "code",
   "execution_count": 8,
   "metadata": {},
   "outputs": [
    {
     "name": "stdout",
     "output_type": "stream",
     "text": [
      "class name is Dogclass\n",
      "instance variable value is max\n",
      "max sound is bowbow\n"
     ]
    }
   ],
   "source": [
    "class Dog:\n",
    "    animal=\"Dogclass\"\n",
    "    def __init__(self,name,sound):\n",
    "        self.name=name\n",
    "        self.sound=sound\n",
    "    def speak(self):\n",
    "        print(f\"{self.name} sound is {self.sound}\")\n",
    "\n",
    "if __name__==\"__main__\":\n",
    "    #accessing class name\n",
    "    puppy=Dog(\"max\",\"bowbow\")\n",
    "    print(f\"class name is {puppy.animal}\")\n",
    "    print(f\"instance variable value is {puppy.name}\")\n",
    "    puppy.speak()"
   ]
  },
  {
   "cell_type": "code",
   "execution_count": 13,
   "metadata": {},
   "outputs": [
    {
     "name": "stdout",
     "output_type": "stream",
     "text": [
      "details is  sabu  son name is  sanosh\n"
     ]
    }
   ],
   "source": [
    "#types of inheritance\n",
    "#1.single inheritance\n",
    "class Dad:\n",
    "    def __init__(self,name):\n",
    "        self.fname=name\n",
    "    def dad_details(self):\n",
    "        print(\"name is \",self.name)\n",
    "class Son(Dad):\n",
    "    def __init__(self,fname,sname):\n",
    "        super().__init__(fname)\n",
    "        self.sname=sname\n",
    "    def son_details(self):\n",
    "        print(\"details is \",self.fname,\" son name is \",self.sname)\n",
    "Sanosh=Son(\"sabu\",\"sanosh\")\n",
    "Sanosh.son_details()\n"
   ]
  },
  {
   "cell_type": "code",
   "execution_count": 20,
   "metadata": {},
   "outputs": [
    {
     "name": "stdout",
     "output_type": "stream",
     "text": [
      "Details are  Sabu Shiny  their son is  Sanosh\n"
     ]
    }
   ],
   "source": [
    "#multilple inheritance\n",
    "class Dad:\n",
    "    def __init__(self,name):\n",
    "        self.fname=name\n",
    "    def dad_details(self):\n",
    "        print(\"name is \",self.name)\n",
    "class Mom:\n",
    "    def __init__(self,name):\n",
    "        self.mname=name\n",
    "    def mom_details(self):\n",
    "        print(\"name is \",self.mname)\n",
    "class Son(Dad,Mom):\n",
    "    def __init__(self,fname,mname,sname):\n",
    "        Dad.__init__(self,fname)\n",
    "        Mom.__init__(self,mname)\n",
    "        self.sname=sname\n",
    "    def son_details(self):\n",
    "        print(\"Details are \",self.fname,self.mname,\" their son is \",self.sname)\n",
    "Sanosh=Son(\"Sabu\",\"Shiny\",\"Sanosh\")\n",
    "Sanosh.son_details()"
   ]
  },
  {
   "cell_type": "code",
   "execution_count": 28,
   "metadata": {},
   "outputs": [
    {
     "name": "stdout",
     "output_type": "stream",
     "text": [
      "Details are  Sanosh Joseph  their grandson is  Sabu\n"
     ]
    }
   ],
   "source": [
    "#multilevel \n",
    "class Grandpa:\n",
    "    def __init__(self,name):\n",
    "        self.gname=name\n",
    "    def mom_details(self):\n",
    "        print(\"name is \",self.gname)\n",
    "class Dad(Grandpa):\n",
    "    def __init__(self,fname,gname):\n",
    "        self.fname=fname\n",
    "        Grandpa.__init__(self,gname)\n",
    "    def dad_details(self):\n",
    "        print(\"name is \",self.fname)\n",
    "\n",
    "class Son(Dad):\n",
    "    def __init__(self,sname,fname,gname):\n",
    "        Dad.__init__(self,fname,gname)\n",
    "        self.sname=sname\n",
    "    def son_details(self):\n",
    "        print(\"Details are \",self.gname,self.fname,\" their grandson is \",self.sname)\n",
    "Sanosh=Son(\"Sabu\",\"Joseph\",\"Sanosh\")\n",
    "Sanosh.son_details()"
   ]
  },
  {
   "cell_type": "code",
   "execution_count": 34,
   "metadata": {},
   "outputs": [
    {
     "name": "stdout",
     "output_type": "stream",
     "text": [
      "grandpa name is  joseph\n",
      "Details are  augusine joseph\n",
      "name is  sabu   joseph\n"
     ]
    }
   ],
   "source": [
    "#hybrid :-which is an combination of any of these inheritance \n",
    "class Grandpa:\n",
    "    def __init__(self,name):\n",
    "        self.gname=name\n",
    "    def grandpa_details(self):\n",
    "        print(\"grandpa name is \",self.gname)\n",
    "class Dad(Grandpa):\n",
    "    def __init__(self,fname,gname):\n",
    "        self.dname=fname\n",
    "        Grandpa.__init__(self,gname)\n",
    "    def details(self):\n",
    "        print(\"name is \",self.dname,\" \",self.gname)\n",
    "\n",
    "class DadElder(Grandpa):\n",
    "    def __init__(self,dename,gname):\n",
    "        Grandpa.__init__(self,gname)\n",
    "        self.grandpa_details()\n",
    "        self.dename=dename\n",
    "    def details(self):\n",
    "        print(\"Details are \",self.dename,self.gname)\n",
    "uncle=DadElder(\"augusine\",\"joseph\")\n",
    "uncle.details()\n",
    "Sabu=Dad(\"sabu\",\"joseph\")\n",
    "Sabu.details()"
   ]
  },
  {
   "cell_type": "code",
   "execution_count": null,
   "metadata": {},
   "outputs": [],
   "source": []
  }
 ],
 "metadata": {
  "kernelspec": {
   "display_name": "base",
   "language": "python",
   "name": "python3"
  },
  "language_info": {
   "codemirror_mode": {
    "name": "ipython",
    "version": 3
   },
   "file_extension": ".py",
   "mimetype": "text/x-python",
   "name": "python",
   "nbconvert_exporter": "python",
   "pygments_lexer": "ipython3",
   "version": "3.9.16"
  }
 },
 "nbformat": 4,
 "nbformat_minor": 2
}
