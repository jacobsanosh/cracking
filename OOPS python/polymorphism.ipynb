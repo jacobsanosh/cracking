{
 "cells": [
  {
   "cell_type": "code",
   "execution_count": 3,
   "metadata": {},
   "outputs": [
    {
     "name": "stdout",
     "output_type": "stream",
     "text": [
      "11\n"
     ]
    }
   ],
   "source": [
    "def add(x,y,z=0):\n",
    "    print(x+y+z)\n",
    "add(5,6)"
   ]
  },
  {
   "cell_type": "code",
   "execution_count": 5,
   "metadata": {},
   "outputs": [
    {
     "name": "stdout",
     "output_type": "stream",
     "text": [
      "bow\n"
     ]
    }
   ],
   "source": [
    "#overriding\n",
    "\n",
    "class Animal:\n",
    "    def speak(self):\n",
    "        print(\"animal sound\")\n",
    "class Dog(Animal):\n",
    "    def speak(self):\n",
    "        print(\"bow\")\n",
    "\n",
    "max=Dog()\n",
    "max.speak()"
   ]
  },
  {
   "cell_type": "code",
   "execution_count": 8,
   "metadata": {},
   "outputs": [
    {
     "name": "stdout",
     "output_type": "stream",
     "text": [
      "value inside derived class dog\n",
      "accessing class variable dog\n"
     ]
    }
   ],
   "source": [
    "#public variable\n",
    "class Animal:\n",
    "    def __init__(self):\n",
    "        self.a=\"dog\"\n",
    "class  Dog(Animal):\n",
    "    def __init__(self):\n",
    "        super().__init__()\n",
    "        print(\"value inside derived class\",self.a)\n",
    "d=Dog()\n",
    "print(\"accessing class variable\",d.a)"
   ]
  },
  {
   "cell_type": "code",
   "execution_count": 12,
   "metadata": {},
   "outputs": [
    {
     "name": "stdout",
     "output_type": "stream",
     "text": [
      "the base class value is  Base\n",
      "after modifying Deriver\n",
      "Deriver\n"
     ]
    }
   ],
   "source": [
    "#protected \n",
    "class Base:\n",
    "    def __init__(self):\n",
    "        self._a=\"Base\"\n",
    "class Derived(Base):\n",
    "    def __init__(self):\n",
    "        super().__init__()\n",
    "        print(\"the base class value is \",self._a)\n",
    "        self._a=\"Deriver\"\n",
    "        print(\"after modifying\",self._a)\n",
    "\n",
    "obj1=Derived()\n",
    "obj2=Base()\n",
    "obj2._a=\"Base outside\"\n",
    "print(obj1._a)"
   ]
  },
  {
   "cell_type": "code",
   "execution_count": 19,
   "metadata": {},
   "outputs": [
    {
     "name": "stdout",
     "output_type": "stream",
     "text": [
      "42\n",
      "This is a protected method.\n",
      "in second fuction This is a protected method.\n"
     ]
    }
   ],
   "source": [
    "class MyClass:\n",
    "    def __init__(self):\n",
    "        self._protected_attribute = 42\n",
    "\n",
    "    def _protected_method(self):\n",
    "        return \"This is a protected method.\"\n",
    "\n",
    "class MyClass2(MyClass):\n",
    "    def __init__(self):\n",
    "        print(\"in second fuction\",self._protected_method())\n",
    "        self._protected_attribute2 =60 \n",
    "\n",
    "obj = MyClass()\n",
    "print(obj._protected_attribute)  \n",
    "print(obj._protected_method())   \n",
    "obj2=MyClass2()\n",
    "# print(obj)\n"
   ]
  },
  {
   "cell_type": "code",
   "execution_count": 8,
   "metadata": {},
   "outputs": [
    {
     "ename": "AttributeError",
     "evalue": "'Derived' object has no attribute '_Derived__a'",
     "output_type": "error",
     "traceback": [
      "\u001b[0;31m---------------------------------------------------------------------------\u001b[0m",
      "\u001b[0;31mAttributeError\u001b[0m                            Traceback (most recent call last)",
      "\u001b[1;32m/home/sanosh/Desktop/Cracking/OOPS python/polymorphism.ipynb Cell 6\u001b[0m line \u001b[0;36m1\n\u001b[1;32m      <a href='vscode-notebook-cell:/home/sanosh/Desktop/Cracking/OOPS%20python/polymorphism.ipynb#W5sZmlsZQ%3D%3D?line=7'>8</a>\u001b[0m         Base\u001b[39m.\u001b[39m\u001b[39m__init__\u001b[39m(\u001b[39mself\u001b[39m)\n\u001b[1;32m      <a href='vscode-notebook-cell:/home/sanosh/Desktop/Cracking/OOPS%20python/polymorphism.ipynb#W5sZmlsZQ%3D%3D?line=8'>9</a>\u001b[0m         \u001b[39mprint\u001b[39m(\u001b[39m\"\u001b[39m\u001b[39min Derived class \u001b[39m\u001b[39m\"\u001b[39m,\u001b[39mself\u001b[39m\u001b[39m.\u001b[39m__a)\n\u001b[0;32m---> <a href='vscode-notebook-cell:/home/sanosh/Desktop/Cracking/OOPS%20python/polymorphism.ipynb#W5sZmlsZQ%3D%3D?line=9'>10</a>\u001b[0m obj\u001b[39m=\u001b[39mDerived()\n\u001b[1;32m     <a href='vscode-notebook-cell:/home/sanosh/Desktop/Cracking/OOPS%20python/polymorphism.ipynb#W5sZmlsZQ%3D%3D?line=10'>11</a>\u001b[0m base\u001b[39m=\u001b[39mBase()\n\u001b[1;32m     <a href='vscode-notebook-cell:/home/sanosh/Desktop/Cracking/OOPS%20python/polymorphism.ipynb#W5sZmlsZQ%3D%3D?line=11'>12</a>\u001b[0m base\u001b[39m.\u001b[39mchange()\n",
      "\u001b[1;32m/home/sanosh/Desktop/Cracking/OOPS python/polymorphism.ipynb Cell 6\u001b[0m line \u001b[0;36m9\n\u001b[1;32m      <a href='vscode-notebook-cell:/home/sanosh/Desktop/Cracking/OOPS%20python/polymorphism.ipynb#W5sZmlsZQ%3D%3D?line=6'>7</a>\u001b[0m \u001b[39mdef\u001b[39;00m \u001b[39m__init__\u001b[39m(\u001b[39mself\u001b[39m):\n\u001b[1;32m      <a href='vscode-notebook-cell:/home/sanosh/Desktop/Cracking/OOPS%20python/polymorphism.ipynb#W5sZmlsZQ%3D%3D?line=7'>8</a>\u001b[0m     Base\u001b[39m.\u001b[39m\u001b[39m__init__\u001b[39m(\u001b[39mself\u001b[39m)\n\u001b[0;32m----> <a href='vscode-notebook-cell:/home/sanosh/Desktop/Cracking/OOPS%20python/polymorphism.ipynb#W5sZmlsZQ%3D%3D?line=8'>9</a>\u001b[0m     \u001b[39mprint\u001b[39m(\u001b[39m\"\u001b[39m\u001b[39min Derived class \u001b[39m\u001b[39m\"\u001b[39m,\u001b[39mself\u001b[39;49m\u001b[39m.\u001b[39;49m__a)\n",
      "\u001b[0;31mAttributeError\u001b[0m: 'Derived' object has no attribute '_Derived__a'"
     ]
    }
   ],
   "source": [
    "class Base:\n",
    "    def __init__(self):\n",
    "        self.__a=\"base\"\n",
    "    def change(self):\n",
    "        self.__a=\"basechange\"\n",
    "class Derived(Base):\n",
    "    def __init__(self):\n",
    "        Base.__init__(self)\n",
    "        print(\"in Derived class \",self.__a)\n",
    "# obj=Derived()\n",
    "base=Base()\n",
    "base.change()\n",
    "print(base.__a)\n",
    "\n",
    "    \n"
   ]
  },
  {
   "cell_type": "code",
   "execution_count": null,
   "metadata": {},
   "outputs": [],
   "source": []
  }
 ],
 "metadata": {
  "kernelspec": {
   "display_name": "base",
   "language": "python",
   "name": "python3"
  },
  "language_info": {
   "codemirror_mode": {
    "name": "ipython",
    "version": 3
   },
   "file_extension": ".py",
   "mimetype": "text/x-python",
   "name": "python",
   "nbconvert_exporter": "python",
   "pygments_lexer": "ipython3",
   "version": "3.9.16"
  }
 },
 "nbformat": 4,
 "nbformat_minor": 2
}
