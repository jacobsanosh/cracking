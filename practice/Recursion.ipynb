{
 "cells": [
  {
   "cell_type": "code",
   "execution_count": 3,
   "metadata": {},
   "outputs": [
    {
     "name": "stdout",
     "output_type": "stream",
     "text": [
      "[1, 2, 3]\n",
      "[[], [1], [1, 2], [1, 2, 3], [1, 3], [2], [2, 3], [3]]\n"
     ]
    }
   ],
   "source": [
    "res,sub=[],[]\n",
    "nums=list(map(int,input(\"enter the input\").split()))\n",
    "print(nums)\n",
    "def subSets(nums,idx):\n",
    "    res.append(sub[:])\n",
    "    for i in range(idx,len(nums)):\n",
    "        sub.append(nums[i])\n",
    "        subSets(nums,i+1)\n",
    "        sub.pop()\n",
    "\n",
    "subSets(nums,0)\n",
    "print(res)"
   ]
  },
  {
   "cell_type": "code",
   "execution_count": 7,
   "metadata": {},
   "outputs": [
    {
     "name": "stdout",
     "output_type": "stream",
     "text": [
      "None\n",
      "2\n"
     ]
    }
   ],
   "source": [
    "class Graph:\n",
    "    def __init__(self,v):\n",
    "        self.v=v\n",
    "        self.count=0\n",
    "        self.adj=[[] for i in range(self.v)]\n",
    "        self.visited=[False]*v\n",
    "    def addEdge(self,u,v):\n",
    "        self.adj[u].append(v)\n",
    "    \n",
    "    def findPath(self,u,v):\n",
    "        self.visited[u]=True\n",
    "        if u==v:\n",
    "            self.count+=1\n",
    "            return\n",
    "        for nei in self.adj[u]:\n",
    "            if not self.visited[nei]:\n",
    "                self.findPath(nei,v)\n",
    "                self.visited[nei]=False \n",
    "        self.visited[u]=False\n",
    "\n",
    "\n",
    "\n",
    "if __name__=='__main__':\n",
    "    g=Graph(4)\n",
    "    g.addEdge(0,1)    \n",
    "    g.addEdge(0,2)    \n",
    "    g.addEdge(0,3)    \n",
    "    g.addEdge(2,0)    \n",
    "    g.addEdge(2,1)    \n",
    "    g.addEdge(1,3)  \n",
    "    print(g.findPath(2,1))  \n",
    "    print(g.count)            "
   ]
  },
  {
   "cell_type": "code",
   "execution_count": 19,
   "metadata": {},
   "outputs": [
    {
     "name": "stdout",
     "output_type": "stream",
     "text": [
      "[1, 2, 3]\n",
      "[[], [1], [1, 2], [1, 2, 3], [1, 3], [2], [2, 3], [3]]\n"
     ]
    }
   ],
   "source": [
    "def sublist(res,nums,copy,j):\n",
    "    res.append(copy[:])\n",
    "    for i in range(j,len(lst)):\n",
    "        if(nums[i]==nums[i-1]):\n",
    "            continue\n",
    "        copy.append(nums[i])\n",
    "        sublist(res,nums,copy,i+1)\n",
    "        copy.pop()\n",
    "\n",
    "if __name__=='__main__':\n",
    "    lst=list(map(int,input(\"enter the inputs\").split()))\n",
    "    print(lst)\n",
    "    res=[]\n",
    "    sublist(res,lst,[],0)\n",
    "    print(res)"
   ]
  },
  {
   "cell_type": "code",
   "execution_count": 57,
   "metadata": {},
   "outputs": [
    {
     "name": "stdout",
     "output_type": "stream",
     "text": [
      "[0, 0] [1, 10] [4, 12] [3, 14] [2, 20] [5, 22] [5, 24] [2, 26] [5, 28] [5, 30] [5, 35] [2, 37] [2, 39] [5, 44] [2, 46] [2, 48] [3, 16] [2, 22] [5, 24] [5, 26] [2, 28] [5, 30] [5, 32] [5, 37] [2, 39] [2, 41] [5, 46] [2, 48] [2, 50] [5, 18] [2, 20] [3, 26] [3, 32] [3, 29] [2, 35] [2, 41] [3, 38] [2, 44] [2, 50] [2, 40] [3, 46] [3, 52] [5, 20] [2, 22] [3, 28] [3, 34] [3, 31] [2, 37] [2, 43] [3, 40] [2, 46] [2, 52] [2, 42] [3, 48] [3, 54] [5, 16] [2, 18] [3, 24] [4, 26] [4, 28] [3, 30] [4, 32] [4, 34] [3, 27] [2, 33] [2, 39] [4, 41] [4, 43] [4, 29] [3, 31] [2, 37] [2, 43] [3, 33] [2, 39] [2, 45] [4, 31] [3, 33] [2, 39] [2, 45] [3, 35] [2, 41] [2, 47] [3, 40] [2, 46] [2, 52] [4, 54] [4, 56] [2, 42] [3, 48] [4, 50] [4, 52] [3, 54] [4, 56] [4, 58] [5, 20] [2, 22] [3, 28] [4, 30] [4, 32] [3, 34] [4, 36] [4, 38] [3, 31] [2, 37] [2, 43] [4, 45] [4, 47] [4, 33] [3, 35] [2, 41] [2, 47] [3, 37] [2, 43] [2, 49] [4, 35] [3, 37] [2, 43] [2, 49] [3, 39] [2, 45] [2, 51] [3, 44] [2, 50] [2, 56] [4, 58] [4, 60] [2, 46] [3, 52] [4, 54] [4, 56] [3, 58] [4, 60] [4, 62] [2, 15] [5, 17] [1, 21] [4, 23] [3, 25] [3, 27] [3, 30] [4, 32] [1, 34] [4, 34] [1, 36] [4, 32] [1, 34] [3, 36] [3, 38] [1, 36] [4, 38] [3, 40] [3, 42] [4, 38] [1, 40] [3, 42] [3, 44] [3, 47] [4, 49] [1, 51] [4, 51] [1, 53] [3, 23] [5, 32] [1, 36] [4, 38] [4, 38] [1, 40] [1, 42] [4, 44] [4, 44] [1, 46] [4, 34] [1, 36] [5, 40] [5, 44] [5, 38] [1, 42] [1, 46] [5, 40] [1, 44] [1, 48] [4, 36] [1, 38] [5, 42] [5, 46] [5, 40] [1, 44] [1, 48] [5, 42] [1, 46] [1, 50] [5, 45] [1, 49] [4, 51] [4, 51] [1, 53] [1, 55] [4, 57] [4, 57] [1, 59] [3, 29] [5, 38] [1, 42] [4, 44] [4, 44] [1, 46] [1, 48] [4, 50] [4, 50] [1, 52] [4, 40] [1, 42] [5, 46] [5, 50] [5, 44] [1, 48] [1, 52] [5, 46] [1, 50] [1, 54] [4, 42] [1, 44] [5, 48] [5, 52] [5, 46] [1, 50] [1, 54] [5, 48] [1, 52] [1, 56] [5, 51] [1, 55] [4, 57] [4, 57] [1, 59] [1, 61] [4, 63] [4, 63] [1, 65] [5, 31] [1, 35] [4, 37] [3, 39] [3, 41] [3, 44] [4, 46] [1, 48] [4, 48] [1, 50] [4, 46] [1, 48] [3, 50] [3, 52] [1, 50] [4, 52] [3, 54] [3, 56] [4, 52] [1, 54] [3, 56] [3, 58] [3, 61] [4, 63] [1, 65] [4, 65] [1, 67] [5, 18] [1, 22] [4, 24] [3, 26] [2, 32] [2, 38] [3, 28] [2, 34] [2, 40] [2, 24] [3, 30] [4, 32] [1, 34] [4, 34] [1, 36] [3, 36] [4, 38] [1, 40] [4, 40] [1, 42] [3, 33] [2, 39] [2, 45] [4, 47] [1, 49] [4, 49] [1, 51] [4, 35] [1, 37] [3, 39] [2, 45] [2, 51] [3, 41] [2, 47] [2, 53] [1, 39] [4, 41] [3, 43] [2, 49] [2, 55] [3, 45] [2, 51] [2, 57] [4, 41] [1, 43] [3, 45] [2, 51] [2, 57] [3, 47] [2, 53] [2, 59] [3, 50] [2, 56] [2, 62] [4, 64] [1, 66] [4, 66] [1, 68] [2, 52] [3, 58] [4, 60] [1, 62] [4, 62] [1, 64] [3, 64] [4, 66] [1, 68] [4, 68] \n",
      "true\n"
     ]
    }
   ],
   "source": [
    "class Graph:\n",
    "    def __init__(self,v):\n",
    "        self.v=v\n",
    "        self.adj=[[] for i in range(0,v)]\n",
    "        self.visited=[False]*v\n",
    "    def addEdge(self,u,v,w):\n",
    "        self.adj[u].append([v,w])\n",
    "        self.adj[v].append([u,w])\n",
    "\n",
    "    def findPath(self,sr,cs,target=0):\n",
    "        self.visited[sr]=True\n",
    "        print([sr,target],end=' ')\n",
    "        for nei in self.adj[sr]:\n",
    "            if not self.visited[nei[0]]:\n",
    "                self.visited[nei[0]]=True\n",
    "                target+=nei[1]\n",
    "                if target>=cs:\n",
    "                    return True\n",
    "                if self.findPath(nei[0],cs,target):\n",
    "                    return True\n",
    "                self.visited[nei[0]]=False\n",
    "        return False\n",
    "            \n",
    "\n",
    "if __name__==\"__main__\":\n",
    "    g=Graph(6)\n",
    "    g.addEdge(0,1,10)\n",
    "    g.addEdge(0,2,5)\n",
    "    g.addEdge(0,5,3)\n",
    "    g.addEdge(1,4,2)\n",
    "    g.addEdge(1,5,4)\n",
    "    g.addEdge(2,0,5)\n",
    "    g.addEdge(2,5,2)\n",
    "    g.addEdge(2,3,6)\n",
    "    g.addEdge(3,2,6)\n",
    "    g.addEdge(3,5,9)\n",
    "    g.addEdge(3,4,2)\n",
    "    g.addEdge(4,3,2)\n",
    "    g.addEdge(4,5,2)\n",
    "    g.addEdge(5,0,3)\n",
    "    g.addEdge(5,1,4)\n",
    "    g.addEdge(5,4,2)\n",
    "    g.addEdge(5,3,9)\n",
    "    g.addEdge(5,2,2)\n",
    "    \n",
    "    if(g.findPath(0,70)):\n",
    "        print(\"\\ntrue\")\n",
    "    else:\n",
    "        print(\"\\nfalse\")\n",
    "    "
   ]
  },
  {
   "cell_type": "code",
   "execution_count": null,
   "metadata": {},
   "outputs": [],
   "source": []
  }
 ],
 "metadata": {
  "kernelspec": {
   "display_name": "base",
   "language": "python",
   "name": "python3"
  },
  "language_info": {
   "codemirror_mode": {
    "name": "ipython",
    "version": 3
   },
   "file_extension": ".py",
   "mimetype": "text/x-python",
   "name": "python",
   "nbconvert_exporter": "python",
   "pygments_lexer": "ipython3",
   "version": "3.9.16"
  },
  "orig_nbformat": 4
 },
 "nbformat": 4,
 "nbformat_minor": 2
}
