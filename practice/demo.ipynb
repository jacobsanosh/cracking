{
 "cells": [
  {
   "cell_type": "code",
   "execution_count": 2,
   "metadata": {},
   "outputs": [
    {
     "name": "stdout",
     "output_type": "stream",
     "text": [
      "5\n",
      "4\n",
      "3\n",
      "2\n",
      "1\n"
     ]
    }
   ],
   "source": [
    "a=[1,2,3,4,5]\n",
    "for i in range(len(a)-1,-1,-1):\n",
    "    print(a[i])"
   ]
  },
  {
   "cell_type": "code",
   "execution_count": 4,
   "metadata": {},
   "outputs": [
    {
     "name": "stdout",
     "output_type": "stream",
     "text": [
      "False\n"
     ]
    }
   ],
   "source": [
    "data=set()\n",
    "data.add((1,2))\n",
    "data.add((2,3))\n",
    "print((2,2) in data)"
   ]
  },
  {
   "cell_type": "code",
   "execution_count": 2,
   "metadata": {},
   "outputs": [
    {
     "name": "stdout",
     "output_type": "stream",
     "text": [
      "{'rajnish': 9, 'ravi': 10, 'sanjeev': 15, 'suraj': 32, 'yash': 2}\n"
     ]
    }
   ],
   "source": [
    "myDict = {'ravi': 10, 'rajnish': 9,\n",
    "        'sanjeev': 15, 'yash': 2, 'suraj': 32}\n",
    " \n",
    "lst=list(myDict.keys())\n",
    "lst.sort()\n",
    "\n",
    "sorted_dict={i:myDict[i] for i in lst}\n",
    "print(sorted_dict)"
   ]
  },
  {
   "cell_type": "code",
   "execution_count": 25,
   "metadata": {},
   "outputs": [
    {
     "name": "stdout",
     "output_type": "stream",
     "text": [
      "{8: 1, 6: 2, 5: 2, 4: 1, 2: 2, 1: 2}\n",
      "[2, 2]\n"
     ]
    }
   ],
   "source": [
    "nums=[1,4,2,5,6,2,5,1,6,8]\n",
    "dict={i:0 for i in sorted(set(nums),reverse=True)}\n",
    "for i in nums:\n",
    "    dict[i]+=1\n",
    "print(dict)\n",
    "print(sorted(dict.values())[-2:])\n"
   ]
  },
  {
   "cell_type": "code",
   "execution_count": 27,
   "metadata": {},
   "outputs": [
    {
     "name": "stdout",
     "output_type": "stream",
     "text": [
      "Counter({4: 4, 3: 3, 2: 2, 1: 1})\n"
     ]
    }
   ],
   "source": [
    "from collections import Counter\n",
    "my_list = [1, 2, 2, 3, 3, 3, 4, 4, 4, 4]\n",
    "counter = Counter(my_list)\n",
    "print(counter)"
   ]
  },
  {
   "cell_type": "code",
   "execution_count": 3,
   "metadata": {},
   "outputs": [
    {
     "name": "stdout",
     "output_type": "stream",
     "text": [
      "Number of swaps needed to match brackets: 1\n"
     ]
    }
   ],
   "source": [
    "def count_swaps_to_match_brackets(s):\n",
    "    swaps = 0  # Initialize a variable to count swaps\n",
    "    balance = 0  # Initialize a balance variable to keep track of unmatched brackets\n",
    "\n",
    "    for char in s:\n",
    "        if char == '[':\n",
    "            balance += 1  # Increment balance for an opening bracket\n",
    "        elif char == ']':\n",
    "            if balance > 0:\n",
    "                balance -= 1  # Match with an opening bracket, decrement balance\n",
    "            else:\n",
    "                swaps += 1  # If no matching opening bracket, increment swaps\n",
    "\n",
    "    return swaps\n",
    "\n",
    "# Input string with brackets\n",
    "input_str = input(\"Enter a string with square brackets: \")\n",
    "result = count_swaps_to_match_brackets(input_str)\n",
    "\n",
    "print(f\"Number of swaps needed to match brackets: {result}\")"
   ]
  },
  {
   "cell_type": "code",
   "execution_count": 9,
   "metadata": {},
   "outputs": [
    {
     "name": "stdout",
     "output_type": "stream",
     "text": [
      "1\n"
     ]
    }
   ],
   "source": [
    "def countSwap(s):\n",
    "    if s.count('[')!=s.count(']'):\n",
    "        return -1\n",
    "    stack=[]\n",
    "    count=0\n",
    "    for i in s:\n",
    "        if i=='[':\n",
    "            stack.append(i)\n",
    "        else:\n",
    "            if stack:\n",
    "                stack.pop()\n",
    "            else:\n",
    "                count+=1\n",
    "    return count \n",
    "\n",
    "s=input(\"\\nenter the string: \")\n",
    "print(countSwap(s))"
   ]
  },
  {
   "cell_type": "code",
   "execution_count": 7,
   "metadata": {},
   "outputs": [
    {
     "name": "stdout",
     "output_type": "stream",
     "text": [
      "abccbca\n"
     ]
    },
    {
     "data": {
      "text/plain": [
       "[[0, 6], [2, 4]]"
      ]
     },
     "execution_count": 7,
     "metadata": {},
     "output_type": "execute_result"
    }
   ],
   "source": [
    "def partition(s):\n",
    "    datas1=[0]*26\n",
    "    datas2=[0]*26\n",
    "    l,r=0,len(s)-1  \n",
    "    res=[]\n",
    "    while l<r:\n",
    "        datas1[ord(s[l])-ord('a')]+=1\n",
    "        datas2[ord(s[r])-ord('a')]+=1\n",
    "        if datas1==datas2:\n",
    "            res.append([l,r])\n",
    "        l+=1\n",
    "        r-=1\n",
    "    return res\n",
    "s=input(\"enter the string\")\n",
    "print(s)\n",
    "partition(s)"
   ]
  },
  {
   "cell_type": "code",
   "execution_count": 7,
   "metadata": {},
   "outputs": [
    {
     "name": "stdout",
     "output_type": "stream",
     "text": [
      "3\n"
     ]
    }
   ],
   "source": [
    "def countNum(s):\n",
    "    res=0\n",
    "    for l in s:\n",
    "      if l==' ':\n",
    "           res+=1 \n",
    "    return res\n",
    "s=input(\"\\nenter a string\")\n",
    "print(countNum(s))"
   ]
  },
  {
   "cell_type": "code",
   "execution_count": 14,
   "metadata": {},
   "outputs": [
    {
     "name": "stdout",
     "output_type": "stream",
     "text": [
      "*         \n",
      "**        \n",
      "* *       \n",
      "*  *      \n",
      "*   *     \n",
      "*    *    \n",
      "*     *   \n",
      "*      *  \n",
      "*       * \n",
      "**********\n"
     ]
    }
   ],
   "source": [
    "def printfPatter(n):\n",
    "    for i in range(n):\n",
    "        for j in range(n):\n",
    "            if(j==0 or j==i or i==n-1):\n",
    "                print(\"*\",end=\"\")\n",
    "            else:\n",
    "                print(\" \",end=\"\")\n",
    "        print()\n",
    "\n",
    "n=int(input(\"\\nenter the value of n\"))\n",
    "printfPatter(n)"
   ]
  },
  {
   "cell_type": "code",
   "execution_count": 23,
   "metadata": {},
   "outputs": [
    {
     "name": "stdout",
     "output_type": "stream",
     "text": [
      "[1, 2, 32, 1, 45, 3, 4, 3]\n",
      "[1, 3]\n"
     ]
    }
   ],
   "source": [
    "def duplicates(nums):\n",
    "    res=[]\n",
    "    numsDict={}\n",
    "    for i in nums:\n",
    "        if numsDict.get(i):\n",
    "            res.append(i)\n",
    "        else:\n",
    "            numsDict[i]=1\n",
    "    return res \n",
    "nums=list(map(int,input(\"\").split(' ')))\n",
    "print(nums)\n",
    "print(duplicates(nums))"
   ]
  },
  {
   "cell_type": "code",
   "execution_count": 2,
   "metadata": {},
   "outputs": [
    {
     "name": "stdout",
     "output_type": "stream",
     "text": [
      "1\n"
     ]
    }
   ],
   "source": [
    "def checkValid(s):\n",
    "    stack=[]\n",
    "    count=0\n",
    "    valid=['{','[','(']\n",
    "    for i in s:\n",
    "        if i in valid:\n",
    "            stack.append(i)\n",
    "        else:\n",
    "            if stack:\n",
    "                stack.pop()\n",
    "            else:\n",
    "                count+=1\n",
    "    return count+len(stack)\n",
    "\n",
    "s=input(\"enter the brackers\")\n",
    "print(checkValid(s))"
   ]
  },
  {
   "cell_type": "code",
   "execution_count": 3,
   "metadata": {},
   "outputs": [
    {
     "name": "stdout",
     "output_type": "stream",
     "text": [
      "0\n",
      "1\n",
      "4\n",
      "5\n",
      "2\n",
      "3\n",
      "\n",
      "\n",
      "0\n",
      "1\n",
      "2\n",
      "3\n",
      "4\n",
      "5\n"
     ]
    }
   ],
   "source": [
    "import collections\n",
    "class Graph:\n",
    "    def __init__(self):\n",
    "        self.graph=collections.defaultdict(list)\n",
    "    def addEdge(self,u,v):\n",
    "        self.graph[u].append(v)\n",
    "    def Dfs(self,v,visited):\n",
    "        visited.add(v)\n",
    "        print(v)\n",
    "        for nei in self.graph[v]:\n",
    "            if nei not in visited:\n",
    "                self.Dfs(nei,visited)\n",
    "    def Bfs(self,v):\n",
    "        q=collections.deque()\n",
    "        visited=[False]*(max(self.graph)+1)\n",
    "        q.append(v)\n",
    "        visited[v]=True\n",
    "        while(q):\n",
    "            val=q.popleft()\n",
    "            print(val)\n",
    "            for i in self.graph[val]:\n",
    "                if visited[i]==False:\n",
    "                    q.append(i)\n",
    "                    visited[i]=True\n",
    "\n",
    "\n",
    "if __name__==\"__main__\":\n",
    "    g=Graph()\n",
    "    g.addEdge(0,1)\n",
    "    g.addEdge(0,2)\n",
    "    g.addEdge(0,3)\n",
    "    g.addEdge(1,4)\n",
    "    g.addEdge(1,5)\n",
    "    g.addEdge(2,4)\n",
    "\n",
    "\n",
    "    g.Dfs(0,set())\n",
    "    print(\"\\n\")\n",
    "    g.Bfs(0)"
   ]
  },
  {
   "cell_type": "code",
   "execution_count": 9,
   "metadata": {},
   "outputs": [
    {
     "name": "stdout",
     "output_type": "stream",
     "text": [
      "[1, 2, 3, 1]\n",
      "True\n"
     ]
    }
   ],
   "source": [
    "def duplicate(s):\n",
    "    maps={}\n",
    "    for i in s:\n",
    "        if maps.get(i):\n",
    "            return True\n",
    "        else:\n",
    "            maps[i]=1\n",
    "    return False\n",
    "st=list(map(int,input(\"enter the array\").split()))\n",
    "print(st)\n",
    "print(duplicate(st))"
   ]
  },
  {
   "cell_type": "code",
   "execution_count": 15,
   "metadata": {},
   "outputs": [
    {
     "name": "stdout",
     "output_type": "stream",
     "text": [
      "found\n",
      "[1, 0]\n"
     ]
    }
   ],
   "source": [
    "def twosum(s,target):\n",
    "    maps={}\n",
    "    for i,val in enumerate(s):\n",
    "        diff=target-val\n",
    "        # print(diff)\n",
    "        if diff in maps:\n",
    "            print(\"found\")\n",
    "            return [i,maps.get(diff)]\n",
    "        else:\n",
    "            maps[val]=i\n",
    "\n",
    "s=list(map(int,input(\"enter the numbers\").split()))\n",
    "print(twosum(s,9))"
   ]
  },
  {
   "cell_type": "code",
   "execution_count": 20,
   "metadata": {},
   "outputs": [
    {
     "name": "stdout",
     "output_type": "stream",
     "text": [
      "[[], [3], [2], [1], [], [], []]\n",
      "[1, 2]\n"
     ]
    }
   ],
   "source": [
    "#most frequenly elements\n",
    "def topks(s,k):\n",
    "    maps={}\n",
    "    bucket=[[] for i in range(len(s)+1)]\n",
    "    for i in s:\n",
    "        maps[i]=1+maps.get(i,0)\n",
    "    for kv,val in maps.items():\n",
    "        bucket[val].append(kv)\n",
    "    print(bucket)\n",
    "    res=[]\n",
    "    for i in range(len(bucket)-1,-1,-1):\n",
    "        for n in bucket[i]:\n",
    "            res.append(n)\n",
    "            if len(res)==k:\n",
    "                return res \n",
    "    \n",
    "\n",
    "s=list(map(int,input(\"enter the list items \").split()))\n",
    "k=int(input(\"enter the values of k \"))\n",
    "print(topks(s,k))"
   ]
  },
  {
   "cell_type": "code",
   "execution_count": 26,
   "metadata": {},
   "outputs": [
    {
     "name": "stdout",
     "output_type": "stream",
     "text": [
      "[1, 1, 1, 1]\n",
      "[24, 12, 8, 6]\n"
     ]
    }
   ],
   "source": [
    "def mulExcept(s):\n",
    "    res=[1]*len(s)\n",
    "    print(res)\n",
    "    for i in range(1,len(s)):\n",
    "        res[i]=res[i-1]*s[i-1]\n",
    "    pre=1\n",
    "    for i in range(len(s)-1,-1,-1):\n",
    "        res[i]*=pre\n",
    "        pre*=s[i]\n",
    "        \n",
    "    print(res) \n",
    "s=list(map(int,input(\"enter the list items \").split()))\n",
    "mulExcept(s)"
   ]
  },
  {
   "cell_type": "code",
   "execution_count": 18,
   "metadata": {},
   "outputs": [
    {
     "name": "stdout",
     "output_type": "stream",
     "text": [
      "0 1\n",
      "1 2\n",
      "3 4\n",
      "2 4\n",
      "2 6\n",
      "5 2\n",
      "3\n"
     ]
    }
   ],
   "source": [
    "ip=[[0,1],[1,2],[3,4],[2,4],[2,6],[5,2]]\n",
    "hashmaps={}\n",
    "for i,j in ip:\n",
    "    print(i,j)\n",
    "    if i in hashmaps:\n",
    "        hashmaps[i]+=1\n",
    "    else:\n",
    "        hashmaps[i]=1\n",
    "    if j in hashmaps:\n",
    "        hashmaps[j]+=1\n",
    "    else:\n",
    "        hashmaps[j]=1    \n",
    "\n",
    "count=0\n",
    "for item,val in hashmaps.items():\n",
    "    if val>1:\n",
    "        count+=1\n",
    "print(count)\n",
    "\n"
   ]
  },
  {
   "cell_type": "code",
   "execution_count": 28,
   "metadata": {},
   "outputs": [
    {
     "name": "stdout",
     "output_type": "stream",
     "text": [
      "BFS traversal:\n",
      "0 1 2 4 6 5 3 "
     ]
    }
   ],
   "source": []
  },
  {
   "cell_type": "code",
   "execution_count": null,
   "metadata": {},
   "outputs": [],
   "source": []
  }
 ],
 "metadata": {
  "kernelspec": {
   "display_name": "Python 3",
   "language": "python",
   "name": "python3"
  },
  "language_info": {
   "codemirror_mode": {
    "name": "ipython",
    "version": 3
   },
   "file_extension": ".py",
   "mimetype": "text/x-python",
   "name": "python",
   "nbconvert_exporter": "python",
   "pygments_lexer": "ipython3",
   "version": "3.9.16"
  },
  "orig_nbformat": 4
 },
 "nbformat": 4,
 "nbformat_minor": 2
}
